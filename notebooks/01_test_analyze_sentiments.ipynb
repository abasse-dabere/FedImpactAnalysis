{
 "cells": [
  {
   "cell_type": "code",
   "execution_count": 1,
   "metadata": {},
   "outputs": [
    {
     "name": "stderr",
     "output_type": "stream",
     "text": [
      "[nltk_data] Downloading package stopwords to\n",
      "[nltk_data]     /Users/dabereabasse/nltk_data...\n",
      "[nltk_data]   Package stopwords is already up-to-date!\n"
     ]
    },
    {
     "name": "stdout",
     "output_type": "stream",
     "text": [
      "Loading FinBERT model...\n"
     ]
    }
   ],
   "source": [
    "import os\n",
    "import sys\n",
    "sys.path.append('../scripts/')\n",
    "\n",
    "from analyze_sentiments import analyze_sentiments"
   ]
  },
  {
   "cell_type": "code",
   "execution_count": 2,
   "metadata": {},
   "outputs": [
    {
     "name": "stdout",
     "output_type": "stream",
     "text": [
      "Help on function analyze_sentiments in module analyze_sentiments:\n",
      "\n",
      "analyze_sentiments(texts, mode='sep')\n",
      "    Analyze the sentiments of a list of texts.\n",
      "    \n",
      "    Args:\n",
      "        texts (list): List of texts to analyze.\n",
      "        mode (str): Analysis mode, 'sep' for separate scores, 'agg' for aggregated value.\n",
      "    \n",
      "    Returns:\n",
      "        list: if mode='sep', a list of tuples with (negative, neutral, positive) scores.\n",
      "        list: if mode='agg', a list of aggregated sentiment scores between -1 (negative) and 1 (positive).\n",
      "\n"
     ]
    }
   ],
   "source": [
    "help(analyze_sentiments)"
   ]
  },
  {
   "cell_type": "code",
   "execution_count": 3,
   "metadata": {},
   "outputs": [],
   "source": [
    "sample_texts = [\n",
    "        \"The market is going up. Investors are optimistic.\",\n",
    "        \"The FED announcement caused a lot of uncertainty.\",\n",
    "        \"The situation is neutral, no big changes expected.\"\n",
    "    ]"
   ]
  },
  {
   "cell_type": "code",
   "execution_count": 4,
   "metadata": {},
   "outputs": [
    {
     "data": {
      "text/plain": [
       "[(0.024164611473679543, 0.18440747261047363, 0.7914279103279114),\n",
       " (0.33408015966415405, 0.6100754737854004, 0.05584438517689705),\n",
       " (0.04182145744562149, 0.9034776091575623, 0.05470088869333267)]"
      ]
     },
     "execution_count": 4,
     "metadata": {},
     "output_type": "execute_result"
    }
   ],
   "source": [
    "analyze_sentiments(sample_texts, mode='sep')"
   ]
  },
  {
   "cell_type": "code",
   "execution_count": 5,
   "metadata": {},
   "outputs": [
    {
     "data": {
      "text/plain": [
       "[0.7672633031416496, -0.27823576930471194, 0.012879431823466651]"
      ]
     },
     "execution_count": 5,
     "metadata": {},
     "output_type": "execute_result"
    }
   ],
   "source": [
    "analyze_sentiments(sample_texts, mode='agg')"
   ]
  },
  {
   "cell_type": "code",
   "execution_count": null,
   "metadata": {},
   "outputs": [],
   "source": []
  }
 ],
 "metadata": {
  "kernelspec": {
   "display_name": "base",
   "language": "python",
   "name": "python3"
  },
  "language_info": {
   "codemirror_mode": {
    "name": "ipython",
    "version": 3
   },
   "file_extension": ".py",
   "mimetype": "text/x-python",
   "name": "python",
   "nbconvert_exporter": "python",
   "pygments_lexer": "ipython3",
   "version": "3.9.19"
  }
 },
 "nbformat": 4,
 "nbformat_minor": 2
}
